{
 "cells": [
  {
   "cell_type": "markdown",
   "metadata": {},
   "source": [
    "## Resolution Calculation"
   ]
  },
  {
   "cell_type": "code",
   "execution_count": null,
   "metadata": {
    "ExecuteTime": {
     "end_time": "2019-04-23T21:21:37.944028Z",
     "start_time": "2019-04-23T21:21:37.938916Z"
    }
   },
   "outputs": [],
   "source": [
    "from __future__ import print_function\n",
    "from math import pi\n",
    "\n",
    "#Acme rod specs\n",
    "pitch = 2 #millimeters\n",
    "numStarts = 4\n",
    "lead = numStarts*pitch/10.0 #cm\n",
    "\n",
    "#Syringe specs\n",
    "syringeDiameter = 26.7 #millimeters\n",
    "syringeArea = pi*(syringeDiameter/10.0)**2/4.0 #cm^2\n",
    "\n",
    "#Motor specs\n",
    "microSteps = 16\n",
    "stepsPerRev = 200\n",
    "numSteps = stepsPerRev*microSteps#200 steps with 1/8 microstepping\n",
    "resolution = lead*syringeArea/numSteps #mL\\n\"\n",
    "\n",
    "print (u\"{:0.3f} \\u03bcL resolution\".format(resolution*1000))"
   ]
  },
  {
   "cell_type": "code",
   "execution_count": null,
   "metadata": {
    "ExecuteTime": {
     "end_time": "2019-04-23T21:21:37.944028Z",
     "start_time": "2019-04-23T21:21:37.938916Z"
    },
    "scrolled": true
   },
   "outputs": [],
   "source": [
    "def computeRewardTime(desiredVolume): #desired volume in mL\n",
    "    volumePerStep = resolution #mL\n",
    "    msPerStep = 2 #ms\n",
    "    stepsNeeded = desiredVolume/volumePerStep #steps\n",
    "    return round(stepsNeeded*msPerStep,2)"
   ]
  },
  {
   "cell_type": "markdown",
   "metadata": {},
   "source": [
    "# [Syringe Inner Diameters](http://www.harvardapparatus.com/media/harvard/pdf/Syringe%20Selection%20Guide.pdf)\n",
    "\n",
    "![stuff](syringe_diameters.png)"
   ]
  }
 ],
 "metadata": {
  "anaconda-cloud": {},
  "kernelspec": {
   "display_name": "Python 3",
   "language": "python",
   "name": "python3"
  },
  "language_info": {
   "codemirror_mode": {
    "name": "ipython",
    "version": 3
   },
   "file_extension": ".py",
   "mimetype": "text/x-python",
   "name": "python",
   "nbconvert_exporter": "python",
   "pygments_lexer": "ipython3",
   "version": "3.7.4"
  },
  "toc": {
   "base_numbering": 1,
   "nav_menu": {},
   "number_sections": false,
   "sideBar": true,
   "skip_h1_title": false,
   "title_cell": "Table of Contents",
   "title_sidebar": "Contents",
   "toc_cell": false,
   "toc_position": {},
   "toc_section_display": true,
   "toc_window_display": false
  }
 },
 "nbformat": 4,
 "nbformat_minor": 1
}
