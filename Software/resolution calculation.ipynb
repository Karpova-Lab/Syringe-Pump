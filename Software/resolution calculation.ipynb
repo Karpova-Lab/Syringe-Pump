{
 "cells": [
  {
   "cell_type": "markdown",
   "metadata": {},
   "source": [
    "## Resolution Calculation"
   ]
  },
  {
   "cell_type": "code",
   "execution_count": 13,
   "metadata": {
    "collapsed": false,
    "scrolled": true
   },
   "outputs": [
    {
     "name": "stdout",
     "output_type": "stream",
     "text": [
      "2.655 μL resolution\n"
     ]
    }
   ],
   "source": [
    "from math import pi\n",
    "from __future__ import print_function\n",
    "#Acme rod specs\n",
    "pitch = 2 #millimeters\n",
    "numStarts = 4\n",
    "lead = numStarts*pitch/10.0 #cm\n",
    "\n",
    "#Syringe specs\n",
    "syringeDiameter = 26 #millimeters\n",
    "syringeArea = pi*(syringeDiameter/10.0)**2/4.0 #cm^2\n",
    "\n",
    "#Motor specs\n",
    "numSteps = 200*8 #200 steps with 1/8 microstepping\n",
    "\n",
    "#Result\n",
    "resolution = lead*syringeArea/numSteps #mL\n",
    "print (u\"{:0.3f} \\u03bcL resolution\".format(resolution*1000))"
   ]
  },
  {
   "cell_type": "markdown",
   "metadata": {},
   "source": [
    "## Steps required for particular volume"
   ]
  },
  {
   "cell_type": "code",
   "execution_count": 5,
   "metadata": {
    "collapsed": false
   },
   "outputs": [
    {
     "name": "stdout",
     "output_type": "stream",
     "text": [
      "118.64506776640384\n"
     ]
    }
   ],
   "source": [
    "wantedML = 0.5\n",
    "neededSteps = wantedML/resolution\n",
    "print(neededSteps)"
   ]
  }
 ],
 "metadata": {
  "anaconda-cloud": {},
  "kernelspec": {
   "display_name": "Python 3",
   "language": "python",
   "name": "python3"
  },
  "language_info": {
   "codemirror_mode": {
    "name": "ipython",
    "version": 3
   },
   "file_extension": ".py",
   "mimetype": "text/x-python",
   "name": "python",
   "nbconvert_exporter": "python",
   "pygments_lexer": "ipython3",
   "version": "3.6.0"
  }
 },
 "nbformat": 4,
 "nbformat_minor": 0
}
